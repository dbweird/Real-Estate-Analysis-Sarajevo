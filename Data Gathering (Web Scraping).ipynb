{
 "cells": [
  {
   "cell_type": "markdown",
   "metadata": {},
   "source": [
    "## Scraping data from olx.ba"
   ]
  },
  {
   "cell_type": "markdown",
   "metadata": {},
   "source": [
    "### Data Gathering"
   ]
  },
  {
   "cell_type": "markdown",
   "metadata": {},
   "source": [
    "#### Import libraries"
   ]
  },
  {
   "cell_type": "code",
   "execution_count": 1,
   "metadata": {},
   "outputs": [],
   "source": [
    "import pandas as pd\n",
    "import numpy as np\n",
    "from bs4 import BeautifulSoup as bs\n",
    "import requests\n",
    "import lxml\n",
    "import cchardet"
   ]
  },
  {
   "cell_type": "markdown",
   "metadata": {},
   "source": [
    "#### Reading the initial data"
   ]
  },
  {
   "cell_type": "markdown",
   "metadata": {},
   "source": [
    "#### This json file was taken from https://www.olx.ba/nekretnine/mapa#&x=43.858451500711645&y=18.430659770965576"
   ]
  },
  {
   "cell_type": "code",
   "execution_count": 2,
   "metadata": {
    "collapsed": true
   },
   "outputs": [
    {
     "data": {
      "text/html": [
       "<div>\n",
       "<style scoped>\n",
       "    .dataframe tbody tr th:only-of-type {\n",
       "        vertical-align: middle;\n",
       "    }\n",
       "\n",
       "    .dataframe tbody tr th {\n",
       "        vertical-align: top;\n",
       "    }\n",
       "\n",
       "    .dataframe thead th {\n",
       "        text-align: right;\n",
       "    }\n",
       "</style>\n",
       "<table border=\"1\" class=\"dataframe\">\n",
       "  <thead>\n",
       "    <tr style=\"text-align: right;\">\n",
       "      <th></th>\n",
       "      <th>artikli</th>\n",
       "      <th>total</th>\n",
       "    </tr>\n",
       "  </thead>\n",
       "  <tbody>\n",
       "    <tr>\n",
       "      <th>0</th>\n",
       "      <td>{'id': '1060706', 'n_x': '43.85749222063085', ...</td>\n",
       "      <td>10000</td>\n",
       "    </tr>\n",
       "    <tr>\n",
       "      <th>1</th>\n",
       "      <td>{'id': '1991312', 'n_x': '43.858146240000906',...</td>\n",
       "      <td>10000</td>\n",
       "    </tr>\n",
       "    <tr>\n",
       "      <th>2</th>\n",
       "      <td>{'id': '2392296', 'n_x': '43.85207948799024', ...</td>\n",
       "      <td>10000</td>\n",
       "    </tr>\n",
       "    <tr>\n",
       "      <th>3</th>\n",
       "      <td>{'id': '3565322', 'n_x': '43.86571522555391', ...</td>\n",
       "      <td>10000</td>\n",
       "    </tr>\n",
       "    <tr>\n",
       "      <th>4</th>\n",
       "      <td>{'id': '3643748', 'n_x': '43.84723599559804', ...</td>\n",
       "      <td>10000</td>\n",
       "    </tr>\n",
       "    <tr>\n",
       "      <th>...</th>\n",
       "      <td>...</td>\n",
       "      <td>...</td>\n",
       "    </tr>\n",
       "    <tr>\n",
       "      <th>9995</th>\n",
       "      <td>{'id': '38638906', 'n_x': '43.832188781289', '...</td>\n",
       "      <td>10000</td>\n",
       "    </tr>\n",
       "    <tr>\n",
       "      <th>9996</th>\n",
       "      <td>{'id': '38689915', 'n_x': '43.850809952235', '...</td>\n",
       "      <td>10000</td>\n",
       "    </tr>\n",
       "    <tr>\n",
       "      <th>9997</th>\n",
       "      <td>{'id': '38696554', 'n_x': '43.875697535257', '...</td>\n",
       "      <td>10000</td>\n",
       "    </tr>\n",
       "    <tr>\n",
       "      <th>9998</th>\n",
       "      <td>{'id': '38703402', 'n_x': '43.842795996996', '...</td>\n",
       "      <td>10000</td>\n",
       "    </tr>\n",
       "    <tr>\n",
       "      <th>9999</th>\n",
       "      <td>{'id': '38729840', 'n_x': '43.849356039073', '...</td>\n",
       "      <td>10000</td>\n",
       "    </tr>\n",
       "  </tbody>\n",
       "</table>\n",
       "<p>10000 rows × 2 columns</p>\n",
       "</div>"
      ],
      "text/plain": [
       "                                                artikli  total\n",
       "0     {'id': '1060706', 'n_x': '43.85749222063085', ...  10000\n",
       "1     {'id': '1991312', 'n_x': '43.858146240000906',...  10000\n",
       "2     {'id': '2392296', 'n_x': '43.85207948799024', ...  10000\n",
       "3     {'id': '3565322', 'n_x': '43.86571522555391', ...  10000\n",
       "4     {'id': '3643748', 'n_x': '43.84723599559804', ...  10000\n",
       "...                                                 ...    ...\n",
       "9995  {'id': '38638906', 'n_x': '43.832188781289', '...  10000\n",
       "9996  {'id': '38689915', 'n_x': '43.850809952235', '...  10000\n",
       "9997  {'id': '38696554', 'n_x': '43.875697535257', '...  10000\n",
       "9998  {'id': '38703402', 'n_x': '43.842795996996', '...  10000\n",
       "9999  {'id': '38729840', 'n_x': '43.849356039073', '...  10000\n",
       "\n",
       "[10000 rows x 2 columns]"
      ]
     },
     "execution_count": 2,
     "metadata": {},
     "output_type": "execute_result"
    }
   ],
   "source": [
    "map_data=pd.read_json(\"rajvosa_nekretnine_olx.json\")\n",
    "map_data"
   ]
  },
  {
   "cell_type": "markdown",
   "metadata": {},
   "source": [
    "#### Normalizing json data"
   ]
  },
  {
   "cell_type": "code",
   "execution_count": 3,
   "metadata": {
    "collapsed": true
   },
   "outputs": [
    {
     "data": {
      "text/html": [
       "<div>\n",
       "<style scoped>\n",
       "    .dataframe tbody tr th:only-of-type {\n",
       "        vertical-align: middle;\n",
       "    }\n",
       "\n",
       "    .dataframe tbody tr th {\n",
       "        vertical-align: top;\n",
       "    }\n",
       "\n",
       "    .dataframe thead th {\n",
       "        text-align: right;\n",
       "    }\n",
       "</style>\n",
       "<table border=\"1\" class=\"dataframe\">\n",
       "  <thead>\n",
       "    <tr style=\"text-align: right;\">\n",
       "      <th></th>\n",
       "      <th>id</th>\n",
       "      <th>n_x</th>\n",
       "      <th>n_y</th>\n",
       "      <th>vrsta</th>\n",
       "    </tr>\n",
       "  </thead>\n",
       "  <tbody>\n",
       "    <tr>\n",
       "      <th>0</th>\n",
       "      <td>1060706</td>\n",
       "      <td>43.857492</td>\n",
       "      <td>18.411627</td>\n",
       "      <td>0</td>\n",
       "    </tr>\n",
       "    <tr>\n",
       "      <th>1</th>\n",
       "      <td>1991312</td>\n",
       "      <td>43.858146</td>\n",
       "      <td>18.418569</td>\n",
       "      <td>1</td>\n",
       "    </tr>\n",
       "    <tr>\n",
       "      <th>2</th>\n",
       "      <td>2392296</td>\n",
       "      <td>43.852079</td>\n",
       "      <td>18.405785</td>\n",
       "      <td>0</td>\n",
       "    </tr>\n",
       "    <tr>\n",
       "      <th>3</th>\n",
       "      <td>3565322</td>\n",
       "      <td>43.865715</td>\n",
       "      <td>18.409599</td>\n",
       "      <td>0</td>\n",
       "    </tr>\n",
       "    <tr>\n",
       "      <th>4</th>\n",
       "      <td>3643748</td>\n",
       "      <td>43.847236</td>\n",
       "      <td>18.365059</td>\n",
       "      <td>1</td>\n",
       "    </tr>\n",
       "    <tr>\n",
       "      <th>5</th>\n",
       "      <td>3710368</td>\n",
       "      <td>43.827921</td>\n",
       "      <td>18.349006</td>\n",
       "      <td>4</td>\n",
       "    </tr>\n",
       "    <tr>\n",
       "      <th>6</th>\n",
       "      <td>6980233</td>\n",
       "      <td>43.828954</td>\n",
       "      <td>18.357586</td>\n",
       "      <td>0</td>\n",
       "    </tr>\n",
       "    <tr>\n",
       "      <th>7</th>\n",
       "      <td>7868218</td>\n",
       "      <td>43.853841</td>\n",
       "      <td>18.381672</td>\n",
       "      <td>4</td>\n",
       "    </tr>\n",
       "    <tr>\n",
       "      <th>8</th>\n",
       "      <td>9211157</td>\n",
       "      <td>43.853868</td>\n",
       "      <td>18.412239</td>\n",
       "      <td>1</td>\n",
       "    </tr>\n",
       "    <tr>\n",
       "      <th>9</th>\n",
       "      <td>9390272</td>\n",
       "      <td>43.851736</td>\n",
       "      <td>18.387508</td>\n",
       "      <td>4</td>\n",
       "    </tr>\n",
       "  </tbody>\n",
       "</table>\n",
       "</div>"
      ],
      "text/plain": [
       "        id        n_x        n_y vrsta\n",
       "0  1060706  43.857492  18.411627     0\n",
       "1  1991312  43.858146  18.418569     1\n",
       "2  2392296  43.852079  18.405785     0\n",
       "3  3565322  43.865715  18.409599     0\n",
       "4  3643748  43.847236  18.365059     1\n",
       "5  3710368  43.827921  18.349006     4\n",
       "6  6980233  43.828954  18.357586     0\n",
       "7  7868218  43.853841  18.381672     4\n",
       "8  9211157  43.853868  18.412239     1\n",
       "9  9390272  43.851736  18.387508     4"
      ]
     },
     "execution_count": 3,
     "metadata": {},
     "output_type": "execute_result"
    }
   ],
   "source": [
    "item_data=pd.json_normalize(map_data['artikli'])\n",
    "item_data['n_x']=item_data['n_x'].astype(float)\n",
    "item_data['n_y']=item_data['n_y'].astype(float)\n",
    "item_data.head(10)"
   ]
  },
  {
   "cell_type": "markdown",
   "metadata": {},
   "source": [
    "#### Writing a funcion to scrape olx.ba for real estate details using the data imported above"
   ]
  },
  {
   "cell_type": "code",
   "execution_count": 4,
   "metadata": {},
   "outputs": [],
   "source": [
    "def get_data(item_data_row):\n",
    "    dc={}\n",
    "    dc['id']=item_data_row\n",
    "    path='https://www.olx.ba/artikal/'+item_data_row\n",
    "    r=requests.get(path)\n",
    "    soup=bs(r.content,'lxml')\n",
    "    try:\n",
    "        dc[\"Cijena\"]=soup.select('.mobile-cijena > p')[1].get_text(strip=True)\n",
    "        dc[\"Stanje\"]=soup.select('.mobile-stanje > p')[1].get_text(strip=True)\n",
    "        dc[\"Lokacija\"]=soup.select('.mobile-lokacija > a> p')[1].get_text(strip=True)\n",
    "        detailed=soup.find_all('div',attrs={\"class\":\"df\"})\n",
    "        for item in detailed:\n",
    "            if(item.find('i',attrs={\"class\":\"entypo-check\"})):\n",
    "                dc[item.find('div',attrs={\"class\":\"df1\"}).get_text(strip=True)] ='True'\n",
    "            else:\n",
    "                dc[item.find('div',attrs={\"class\":\"df1\"}).get_text(strip=True)] =item.find('div',attrs={\"class\":\"df2\"}).get_text(strip=True)\n",
    "    except:\n",
    "        return\n",
    "    return dc"
   ]
  },
  {
   "cell_type": "markdown",
   "metadata": {},
   "source": [
    "#### Creating a list of dictionaries (which contain data about the real estate) using the get_data() funcion.\n",
    "We import the file as this part of the code was executed before and there is no need to execute it again( as it takes 2 hours to run 10000 requests)"
   ]
  },
  {
   "cell_type": "code",
   "execution_count": 5,
   "metadata": {},
   "outputs": [],
   "source": [
    "#content=[]\n",
    "#for i in data['id']:\n",
    "#    content.append(get_data(i))\n",
    "#\n",
    "#content = [i for i in content if i is not None]\n",
    "#df=pd.DataFrame(content)\n",
    "#df.to_csv('real_estate_data_sarajevo.csv')"
   ]
  },
  {
   "cell_type": "markdown",
   "metadata": {},
   "source": [
    "#### Saving to csv"
   ]
  },
  {
   "cell_type": "code",
   "execution_count": 49,
   "metadata": {},
   "outputs": [],
   "source": [
    "#\"df.to_csv('real_estate_data_sarajevo.csv')"
   ]
  }
 ],
 "metadata": {
  "kernelspec": {
   "display_name": "Python 3",
   "language": "python",
   "name": "python3"
  },
  "language_info": {
   "codemirror_mode": {
    "name": "ipython",
    "version": 3
   },
   "file_extension": ".py",
   "mimetype": "text/x-python",
   "name": "python",
   "nbconvert_exporter": "python",
   "pygments_lexer": "ipython3",
   "version": "3.8.5"
  }
 },
 "nbformat": 4,
 "nbformat_minor": 4
}
